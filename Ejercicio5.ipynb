{
 "cells": [
  {
   "cell_type": "code",
   "execution_count": 4,
   "id": "554dfd8d-9ae6-467f-b1ee-f7ae86123415",
   "metadata": {},
   "outputs": [
    {
     "name": "stdout",
     "output_type": "stream",
     "text": [
      "Media de la nota final de cada alumno:\n",
      "  Nombre  Nota Media\n",
      "0    Ana         8.5\n",
      "1   Luis         7.0\n",
      "2  Paula         9.0\n",
      "\n",
      "La media de la nota final de todos los alumnos es: 8.17\n",
      "\n",
      "Porcentaje de aprobados: 100.00%\n",
      "Porcentaje de suspensos: 0.00%\n",
      "\n",
      "Nota más alta: 9.0\n",
      "Nota más baja: 7.0\n",
      "\n",
      "Alumnos con el máximo de asignaturas aprobadas:\n",
      "  Nombre Apellido  Asignaturas Aprobadas\n",
      "0    Ana   García                      5\n",
      "2  Paula    López                      5\n"
     ]
    }
   ],
   "source": [
    "import pandas as pd\n",
    "\n",
    "# Crear un DataFrame con los datos proporcionados\n",
    "datos = {\n",
    "    \"Nombre\": [\"Ana\", \"Luis\", \"Paula\"],\n",
    "    \"Apellido\": [\"García\", \"Martínez\", \"López\"],\n",
    "    \"Edad\": [20, 21, 22],\n",
    "    \"Nota Media\": [8.5, 7.0, 9.0],\n",
    "    \"Asignaturas Aprobadas\": [5, 4, 5]\n",
    "}\n",
    "\n",
    "df = pd.DataFrame(datos)\n",
    "\n",
    "# 1. Calcular la media de la nota final de cada alumno (ya está en la columna 'Nota Media')\n",
    "print(\"Media de la nota final de cada alumno:\")\n",
    "print(df[[\"Nombre\", \"Nota Media\"]])\n",
    "\n",
    "# 2. Media de la nota final de todos los alumnos\n",
    "media_general = df[\"Nota Media\"].mean()\n",
    "print(f\"\\nLa media de la nota final de todos los alumnos es: {media_general:.2f}\")\n",
    "\n",
    "# 3. Porcentaje de aprobados y suspensos\n",
    "aprobados = len(df[df[\"Nota Media\"] >= 5])\n",
    "suspensos = len(df[df[\"Nota Media\"] < 5])\n",
    "total_alumnos = len(df)\n",
    "porcentaje_aprobados = (aprobados / total_alumnos) * 100\n",
    "porcentaje_suspensos = (suspensos / total_alumnos) * 100\n",
    "print(f\"\\nPorcentaje de aprobados: {porcentaje_aprobados:.2f}%\")\n",
    "print(f\"Porcentaje de suspensos: {porcentaje_suspensos:.2f}%\")\n",
    "\n",
    "# 4. Nota más alta y más baja\n",
    "nota_maxima = df[\"Nota Media\"].max()\n",
    "nota_minima = df[\"Nota Media\"].min()\n",
    "print(f\"\\nNota más alta: {nota_maxima}\")\n",
    "print(f\"Nota más baja: {nota_minima}\")\n",
    "\n",
    "# 5. Alumnos con el máximo de asignaturas aprobadas\n",
    "max_aprobadas = df[\"Asignaturas Aprobadas\"].max()\n",
    "alumnos_max_aprobadas = df[df[\"Asignaturas Aprobadas\"] == max_aprobadas]\n",
    "print(\"\\nAlumnos con el máximo de asignaturas aprobadas:\")\n",
    "print(alumnos_max_aprobadas[[\"Nombre\", \"Apellido\", \"Asignaturas Aprobadas\"]])"
   ]
  },
  {
   "cell_type": "code",
   "execution_count": null,
   "id": "d350c54a-7f80-4923-b5c9-89da9c857970",
   "metadata": {},
   "outputs": [],
   "source": []
  }
 ],
 "metadata": {
  "kernelspec": {
   "display_name": "Python 3 (ipykernel)",
   "language": "python",
   "name": "python3"
  },
  "language_info": {
   "codemirror_mode": {
    "name": "ipython",
    "version": 3
   },
   "file_extension": ".py",
   "mimetype": "text/x-python",
   "name": "python",
   "nbconvert_exporter": "python",
   "pygments_lexer": "ipython3",
   "version": "3.12.1"
  }
 },
 "nbformat": 4,
 "nbformat_minor": 5
}
