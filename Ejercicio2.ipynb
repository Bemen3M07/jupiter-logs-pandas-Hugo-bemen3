{
 "cells": [
  {
   "cell_type": "code",
   "execution_count": 1,
   "id": "95c5ce0e-ff86-439b-b1a5-6dcbd709251e",
   "metadata": {},
   "outputs": [
    {
     "name": "stderr",
     "output_type": "stream",
     "text": [
      "<>:2: SyntaxWarning: invalid escape sequence '\\e'\n",
      "<>:2: SyntaxWarning: invalid escape sequence '\\e'\n",
      "/tmp/ipykernel_1940/2068273354.py:2: SyntaxWarning: invalid escape sequence '\\e'\n",
      "  logging.basicConfig(filename='directorio\\example.log', level=logging.DEBUG)\n"
     ]
    }
   ],
   "source": [
    "import logging\n",
    "logging.basicConfig(filename='example.log', level=logging.DEBUG)\n",
    "logging.debug('This message should go to the log file')\n",
    "logging.info('So should this')\n",
    "logging.warning('And this, too')\n",
    "logging.error('And non-ASCII stuff, too, like Øresund and Malmö')"
   ]
  },
  {
   "cell_type": "code",
   "execution_count": null,
   "id": "0346eae8-e1a4-468c-b417-14a6c6f35c72",
   "metadata": {},
   "outputs": [],
   "source": [
    "import logging\n",
    "import time\n",
    "from datetime import datetime\n",
    "\n",
    "# Configuración básica del logger\n",
    "logging.basicConfig(\n",
    "    filename=\"horas.log\",  # Nombre del fichero de log\n",
    "    level=logging.INFO,          # Nivel del log (INFO)\n",
    "    format=\"%(asctime)s - %(message)s\",  # Formato del log con hora y mensaje\n",
    "    datefmt=\"%Y-%m-%d %H:%M:%S\"  # Formato de la fecha\n",
    ")\n",
    "\n",
    "def log_infinito():\n",
    "    while True:\n",
    "        # Escribe el mensaje en el log\n",
    "        logging.info(\"La información ha sido enviada.\")\n",
    "        # Escribe el mensaje en el log\n",
    "        logging.debug(\"La información ha sido enviada con exito.\")\n",
    "        # Pausa de 5 segundos\n",
    "        time.sleep(5)\n",
    "\n",
    "if __name__ == \"__main__\":\n",
    "    log_infinito()\n"
   ]
  }
 ],
 "metadata": {
  "kernelspec": {
   "display_name": "Python 3 (ipykernel)",
   "language": "python",
   "name": "python3"
  },
  "language_info": {
   "codemirror_mode": {
    "name": "ipython",
    "version": 3
   },
   "file_extension": ".py",
   "mimetype": "text/x-python",
   "name": "python",
   "nbconvert_exporter": "python",
   "pygments_lexer": "ipython3",
   "version": "3.12.1"
  }
 },
 "nbformat": 4,
 "nbformat_minor": 5
}
