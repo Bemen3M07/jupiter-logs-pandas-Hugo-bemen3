{
 "cells": [
  {
   "cell_type": "code",
   "execution_count": 1,
   "id": "95c5ce0e-ff86-439b-b1a5-6dcbd709251e",
   "metadata": {},
   "outputs": [
    {
     "name": "stderr",
     "output_type": "stream",
     "text": [
      "<>:2: SyntaxWarning: invalid escape sequence '\\e'\n",
      "<>:2: SyntaxWarning: invalid escape sequence '\\e'\n",
      "/tmp/ipykernel_1940/2068273354.py:2: SyntaxWarning: invalid escape sequence '\\e'\n",
      "  logging.basicConfig(filename='directorio\\example.log', level=logging.DEBUG)\n"
     ]
    }
   ],
   "source": [
    "import logging\n",
    "\n",
    "# Configuración del logger principal\n",
    "logger = logging.getLogger('main_logger')\n",
    "logger.setLevel(logging.DEBUG)\n",
    "\n",
    "# Handler para logs de error\n",
    "error_handler = logging.FileHandler('error_logs.log')\n",
    "error_handler.setLevel(logging.ERROR)\n",
    "\n",
    "# Handler para logs de info\n",
    "info_handler = logging.FileHandler('info_logs.log')\n",
    "info_handler.setLevel(logging.INFO)\n",
    "\n",
    "# Handler para mostrar logs por pantalla\n",
    "console_handler = logging.StreamHandler()\n",
    "console_handler.setLevel(logging.INFO)\n",
    "\n",
    "# Formateadores para los logs\n",
    "formatter = logging.Formatter('%(asctime)s - %(name)s - %(levelname)s - %(message)s')\n",
    "error_handler.setFormatter(formatter)\n",
    "info_handler.setFormatter(formatter)\n",
    "console_handler.setFormatter(formatter)\n",
    "\n",
    "# Agregar handlers al logger\n",
    "logger.addHandler(error_handler)\n",
    "logger.addHandler(info_handler)\n",
    "logger.addHandler(console_handler)\n",
    "\n",
    "# Agregar mensajes de error\n",
    "logger.info(\"Este es un mensaje de información.\")\n",
    "logger.warning(\"Este es un mensaje de advertencia.\")\n",
    "logger.error(\"Este es un mensaje de error.\")\n",
    "logger.critical(\"Este es un mensaje crítico.\")"
   ]
  }
 ],
 "metadata": {
  "kernelspec": {
   "display_name": "Python 3 (ipykernel)",
   "language": "python",
   "name": "python3"
  },
  "language_info": {
   "codemirror_mode": {
    "name": "ipython",
    "version": 3
   },
   "file_extension": ".py",
   "mimetype": "text/x-python",
   "name": "python",
   "nbconvert_exporter": "python",
   "pygments_lexer": "ipython3",
   "version": "3.12.1"
  }
 },
 "nbformat": 4,
 "nbformat_minor": 5
}
