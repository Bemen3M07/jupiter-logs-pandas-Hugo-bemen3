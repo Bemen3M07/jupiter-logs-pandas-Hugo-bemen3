{
 "cells": [
  {
   "cell_type": "code",
   "execution_count": null,
   "id": "021f9445-e756-4530-9f7e-b35ca1ab8f2a",
   "metadata": {},
   "outputs": [],
   "source": [
    "import csv\n",
    "\n",
    "# Crear los datos\n",
    "datos = [\n",
    "    [\"Nombre\", \"Apellido\", \"Edad\", \"Nota Media\", \"Asignaturas Aprobadas\"],\n",
    "    [\"Ana\", \"García\", 20, 8.5, 5],\n",
    "    [\"Luis\", \"Martínez\", 21, 7.0, 4],\n",
    "    # Agregar más registros hasta completar 20 personas\n",
    "    # ...\n",
    "    [\"Paula\", \"López\", 22, 9.0, 5]\n",
    "]\n",
    "\n",
    "# Escribir los datos en un archivo CSV\n",
    "with open(\"Ejercicio4.csv\", \"w\", newline=\"\") as archivo_csv:\n",
    "    escritor = csv.writer(archivo_csv)\n",
    "    escritor.writerows(datos)\n",
    "\n",
    "print(\"Archivo CSV generado con éxito.\")"
   ]
  },
  {
   "cell_type": "code",
   "execution_count": null,
   "id": "889a3a8f-056f-4bfb-a94e-2b196fe159de",
   "metadata": {},
   "outputs": [],
   "source": [
    "import pandas as pd\n",
    "\n",
    "# Cargar los datos desde el archivo CSV\n",
    "datos = pd.read_csv(\"Ejercicio4.csv\")\n",
    "\n",
    "# Mostrar las primeras filas para comprobar los datos\n",
    "print(datos.head(20))"
   ]
  }
 ],
 "metadata": {
  "kernelspec": {
   "display_name": "Python 3 (ipykernel)",
   "language": "python",
   "name": "python3"
  },
  "language_info": {
   "codemirror_mode": {
    "name": "ipython",
    "version": 3
   },
   "file_extension": ".py",
   "mimetype": "text/x-python",
   "name": "python",
   "nbconvert_exporter": "python",
   "pygments_lexer": "ipython3",
   "version": "3.12.1"
  }
 },
 "nbformat": 4,
 "nbformat_minor": 5
}
